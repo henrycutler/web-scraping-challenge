{
 "cells": [
  {
   "cell_type": "code",
   "execution_count": 1,
   "id": "2335b859",
   "metadata": {},
   "outputs": [],
   "source": [
    "from splinter import Browser\n",
    "from bs4 import BeautifulSoup\n",
    "from webdriver_manager.chrome import ChromeDriverManager"
   ]
  },
  {
   "cell_type": "code",
   "execution_count": 2,
   "id": "cd61125e",
   "metadata": {},
   "outputs": [],
   "source": [
    "executable_path = {'executable_path': ChromeDriverManager().install()}\n",
    "browser = Browser('chrome', **executable_path, headless=False)"
   ]
  },
  {
   "cell_type": "code",
   "execution_count": 3,
   "id": "e09be047",
   "metadata": {},
   "outputs": [],
   "source": [
    "url = 'https://redplanetscience.com/'\n",
    "browser.visit(url)"
   ]
  },
  {
   "cell_type": "code",
   "execution_count": 4,
   "id": "f6760c31",
   "metadata": {},
   "outputs": [],
   "source": [
    "# Create BeautifulSoup object; parse with 'html.parser'\n",
    "html = browser.html\n",
    "soup = BeautifulSoup(html, 'html.parser')"
   ]
  },
  {
   "cell_type": "code",
   "execution_count": 5,
   "id": "126ac9e7",
   "metadata": {},
   "outputs": [],
   "source": [
    "# Examine the results and look for a section with the image and description container\n",
    "result = soup.find('section', class_='image_and_description_container')\n",
    "\n",
    "# Retrieve news section\n",
    "query = result.find('div')"
   ]
  },
  {
   "cell_type": "code",
   "execution_count": 6,
   "id": "20be52d2",
   "metadata": {},
   "outputs": [],
   "source": [
    "queries = query.find_all('div', class_='col-md-12')"
   ]
  },
  {
   "cell_type": "code",
   "execution_count": 7,
   "id": "4c3004a2",
   "metadata": {},
   "outputs": [],
   "source": [
    "rows = []\n",
    "# Loop through returned queries\n",
    "for query in queries:\n",
    "\n",
    "    # Retrieve the query row\n",
    "    row = query.find('div', class_='row')\n",
    "\n",
    "    # Access the query's row content\n",
    "    row_content = row.find('div', class_='col-md-8')\n",
    "#     print(row_content)\n",
    "\n",
    "    try:\n",
    "        # Access the title div of the row\n",
    "        content_title = query.find('div', class_='content_title')    \n",
    "\n",
    "        # The title of the row\n",
    "        title = content_title.text\n",
    "        \n",
    "        # Access the teaser div of the row\n",
    "        article_teaser_body = query.find('div', class_='article_teaser_body')\n",
    "        \n",
    "        # Preview of the row\n",
    "        preview = article_teaser_body.text\n",
    "        \n",
    "        row = {'title': title, 'preview': preview}\n",
    "        rows.append(row)\n",
    "\n",
    "    except AttributeError as e:\n",
    "        print(e)"
   ]
  },
  {
   "cell_type": "code",
   "execution_count": 8,
   "id": "c750ce76",
   "metadata": {},
   "outputs": [
    {
     "name": "stdout",
     "output_type": "stream",
     "text": [
      "[{'title': 'Space History Is Made in This NASA Robot Factory', 'preview': \"From rockets to rovers, JPL's Spacecraft Assembly Facility has been at the center of robotic spaceflight. Here's a closer look at what makes it so special.\"}, {'title': 'NASA Establishes Board to Initially Review Mars Sample Return Plans', 'preview': 'The board will assist with analysis of current plans and goals for one of the most difficult missions humanity has ever undertaken.'}, {'title': \"NASA's New Mars Rover Is Ready for Space Lasers\", 'preview': 'Perseverance is one of a few Mars spacecraft carrying laser retroreflectors. The devices could provide new science and safer Mars landings in the future.'}, {'title': \"A New Video Captures the Science of NASA's Perseverance Mars Rover\", 'preview': 'With a targeted launch date of July 30, the next robotic scientist NASA is sending to the to the Red Planet has big ambitions.'}, {'title': 'NASA Administrator Statement on Moon to Mars Initiative, FY 2021 Budget', 'preview': \"Jim Bridenstine addresses NASA's ambitious plans for the coming years, including Mars Sample Return.\"}, {'title': \"A Year of Surprising Science From NASA's InSight Mars Mission\", 'preview': \"A batch of new papers summarizes the lander's findings above and below the surface of the Red Planet.\"}, {'title': 'MAVEN Maps Electric Currents around Mars that are Fundamental to Atmospheric Loss', 'preview': 'Five years after NASA’s MAVEN spacecraft entered into orbit around Mars, data from the mission has led to the creation of a map of electric current systems in the Martian atmosphere.'}, {'title': 'NASA to Broadcast Mars 2020 Perseverance Launch, Prelaunch Activities', 'preview': 'Starting July 27, news activities will cover everything from mission engineering and science to returning samples from Mars to, of course, the launch itself.'}, {'title': 'New Selfie Shows Curiosity, the Mars Chemist', 'preview': 'The NASA rover performed a special chemistry experiment at the location captured in its newest self-portrait.'}, {'title': \"Alabama High School Student Names NASA's Mars Helicopter\", 'preview': \"Vaneeza Rupani's essay was chosen as the name for the small spacecraft, which will mark NASA's first attempt at powered flight on another planet.\"}, {'title': \"NASA's Perseverance Rover 100 Days Out\", 'preview': \"Mark your calendars: The agency's latest rover has only about 8,640,000 seconds to go before it touches down on the Red Planet, becoming history's next Mars car.\"}, {'title': 'NASA Moves Forward With Campaign to Return Mars Samples to Earth', 'preview': 'During this next phase, the program will mature critical technologies and make critical design decisions as well as assess industry partnerships.'}, {'title': \"NASA's Mars Perseverance Rover Gets Its Sample Handling System\", 'preview': 'The system will be collecting and storing Martian rock and soil. Its installation marks another milestone in the march toward the July launch period.'}, {'title': \"NASA's Perseverance Rover Goes Through Trials by Fire, Ice, Light and Sound\", 'preview': \"The agency's new Mars rover is put through a series of tests in vacuum chambers, acoustic chambers and more to get ready for the Red Planet.\"}, {'title': \"The Detective Aboard NASA's Perseverance Rover\", 'preview': 'An instrument called SHERLOC will, with the help of its partner WATSON, hunt for signs of ancient life by detecting organic molecules and minerals.'}]\n"
     ]
    }
   ],
   "source": [
    "print(rows)"
   ]
  },
  {
   "cell_type": "code",
   "execution_count": 9,
   "id": "7b020c1a",
   "metadata": {},
   "outputs": [],
   "source": [
    "browser.quit()"
   ]
  },
  {
   "cell_type": "code",
   "execution_count": null,
   "id": "c3c37a35",
   "metadata": {},
   "outputs": [],
   "source": []
  }
 ],
 "metadata": {
  "kernelspec": {
   "display_name": "Python 3 (ipykernel)",
   "language": "python",
   "name": "python3"
  },
  "language_info": {
   "codemirror_mode": {
    "name": "ipython",
    "version": 3
   },
   "file_extension": ".py",
   "mimetype": "text/x-python",
   "name": "python",
   "nbconvert_exporter": "python",
   "pygments_lexer": "ipython3",
   "version": "3.9.12"
  }
 },
 "nbformat": 4,
 "nbformat_minor": 5
}
