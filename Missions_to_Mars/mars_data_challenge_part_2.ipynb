{
 "cells": [
  {
   "cell_type": "code",
   "execution_count": 1,
   "id": "8d61deaf",
   "metadata": {},
   "outputs": [],
   "source": [
    "from splinter import Browser\n",
    "from bs4 import BeautifulSoup\n",
    "from webdriver_manager.chrome import ChromeDriverManager\n",
    "import pandas as pd\n",
    "import numpy as np\n",
    "import matplotlib.pyplot as plt\n",
    "from unicodedata import normalize"
   ]
  },
  {
   "cell_type": "code",
   "execution_count": 2,
   "id": "7f7fdc4b",
   "metadata": {},
   "outputs": [],
   "source": [
    "table_mars = pd.read_html('https://data-class-mars-challenge.s3.amazonaws.com/Mars/index.html')"
   ]
  },
  {
   "cell_type": "code",
   "execution_count": 3,
   "id": "f3a21519",
   "metadata": {},
   "outputs": [
    {
     "data": {
      "text/html": [
       "<div>\n",
       "<style scoped>\n",
       "    .dataframe tbody tr th:only-of-type {\n",
       "        vertical-align: middle;\n",
       "    }\n",
       "\n",
       "    .dataframe tbody tr th {\n",
       "        vertical-align: top;\n",
       "    }\n",
       "\n",
       "    .dataframe thead th {\n",
       "        text-align: right;\n",
       "    }\n",
       "</style>\n",
       "<table border=\"1\" class=\"dataframe\">\n",
       "  <thead>\n",
       "    <tr style=\"text-align: right;\">\n",
       "      <th></th>\n",
       "      <th>id</th>\n",
       "      <th>terrestrial_date</th>\n",
       "      <th>sol</th>\n",
       "      <th>ls</th>\n",
       "      <th>month</th>\n",
       "      <th>min_temp</th>\n",
       "      <th>pressure</th>\n",
       "    </tr>\n",
       "  </thead>\n",
       "  <tbody>\n",
       "    <tr>\n",
       "      <th>0</th>\n",
       "      <td>2</td>\n",
       "      <td>2012-08-16</td>\n",
       "      <td>10</td>\n",
       "      <td>155</td>\n",
       "      <td>6</td>\n",
       "      <td>-75.0</td>\n",
       "      <td>739.0</td>\n",
       "    </tr>\n",
       "    <tr>\n",
       "      <th>1</th>\n",
       "      <td>13</td>\n",
       "      <td>2012-08-17</td>\n",
       "      <td>11</td>\n",
       "      <td>156</td>\n",
       "      <td>6</td>\n",
       "      <td>-76.0</td>\n",
       "      <td>740.0</td>\n",
       "    </tr>\n",
       "    <tr>\n",
       "      <th>2</th>\n",
       "      <td>24</td>\n",
       "      <td>2012-08-18</td>\n",
       "      <td>12</td>\n",
       "      <td>156</td>\n",
       "      <td>6</td>\n",
       "      <td>-76.0</td>\n",
       "      <td>741.0</td>\n",
       "    </tr>\n",
       "    <tr>\n",
       "      <th>3</th>\n",
       "      <td>35</td>\n",
       "      <td>2012-08-19</td>\n",
       "      <td>13</td>\n",
       "      <td>157</td>\n",
       "      <td>6</td>\n",
       "      <td>-74.0</td>\n",
       "      <td>732.0</td>\n",
       "    </tr>\n",
       "    <tr>\n",
       "      <th>4</th>\n",
       "      <td>46</td>\n",
       "      <td>2012-08-20</td>\n",
       "      <td>14</td>\n",
       "      <td>157</td>\n",
       "      <td>6</td>\n",
       "      <td>-74.0</td>\n",
       "      <td>740.0</td>\n",
       "    </tr>\n",
       "  </tbody>\n",
       "</table>\n",
       "</div>"
      ],
      "text/plain": [
       "   id terrestrial_date  sol   ls  month  min_temp  pressure\n",
       "0   2       2012-08-16   10  155      6     -75.0     739.0\n",
       "1  13       2012-08-17   11  156      6     -76.0     740.0\n",
       "2  24       2012-08-18   12  156      6     -76.0     741.0\n",
       "3  35       2012-08-19   13  157      6     -74.0     732.0\n",
       "4  46       2012-08-20   14  157      6     -74.0     740.0"
      ]
     },
     "execution_count": 3,
     "metadata": {},
     "output_type": "execute_result"
    }
   ],
   "source": [
    "mars_df = table_mars[0]\n",
    "mars_df['terrestrial_date'] = pd.to_datetime(mars_df['terrestrial_date'])\n",
    "mars_df.head()"
   ]
  },
  {
   "cell_type": "code",
   "execution_count": 4,
   "id": "e43a7256",
   "metadata": {},
   "outputs": [
    {
     "data": {
      "text/plain": [
       "<bound method IndexOpsMixin.nunique of 0       6\n",
       "1       6\n",
       "2       6\n",
       "3       6\n",
       "4       6\n",
       "       ..\n",
       "1862    5\n",
       "1863    5\n",
       "1864    5\n",
       "1865    5\n",
       "1866    5\n",
       "Name: month, Length: 1867, dtype: int64>"
      ]
     },
     "execution_count": 4,
     "metadata": {},
     "output_type": "execute_result"
    }
   ],
   "source": [
    "# Months on Mars\n",
    "mars_months = mars_df[\"month\"].nunique\n",
    "mars_months"
   ]
  },
  {
   "cell_type": "code",
   "execution_count": 5,
   "id": "50eabe74",
   "metadata": {},
   "outputs": [
    {
     "data": {
      "text/plain": [
       "1867"
      ]
     },
     "execution_count": 5,
     "metadata": {},
     "output_type": "execute_result"
    }
   ],
   "source": [
    "# Mars days worth of data\n",
    "mars_days = mars_df[\"sol\"].nunique()\n",
    "mars_days"
   ]
  },
  {
   "cell_type": "code",
   "execution_count": 6,
   "id": "a23431b0",
   "metadata": {},
   "outputs": [
    {
     "name": "stdout",
     "output_type": "stream",
     "text": [
      "The coldest month on mars is 3 and the warmest month on mars is 8\n"
     ]
    }
   ],
   "source": [
    "# Coldest & warmest months on Mars\n",
    "\n",
    "temp_by_month = mars_df.groupby([\"month\"]).mean().reset_index()\n",
    "\n",
    "cold_month = temp_by_month[temp_by_month.min_temp == temp_by_month.min_temp.min()]['month'].tolist()[0]\n",
    "warm_month = temp_by_month[temp_by_month.min_temp == temp_by_month.min_temp.max()]['month'].tolist()[0]\n",
    "\n",
    "print(f\"The coldest month on mars is {cold_month} and the warmest month on mars is {warm_month}\")"
   ]
  },
  {
   "cell_type": "code",
   "execution_count": 7,
   "id": "ced782bc",
   "metadata": {},
   "outputs": [
    {
     "data": {
      "image/png": "[encoded data removed]",
      "text/plain": [
       "<Figure size 432x288 with 1 Axes>"
      ]
     },
     "metadata": {
      "needs_background": "light"
     },
     "output_type": "display_data"
    }
   ],
   "source": [
    "# Plot min_temp by month\n",
    "\n",
    "temp_by_month.plot(x='month', y='min_temp', kind='bar')\n",
    "plt.title('Average minTemp by Month')\n",
    "plt.ylabel('Average minTemp (C)')\n",
    "plt.show()"
   ]
  },
  {
   "cell_type": "code",
   "execution_count": 8,
   "id": "4a8bd0f6",
   "metadata": {},
   "outputs": [
    {
     "name": "stdout",
     "output_type": "stream",
     "text": [
      "The month on mars with the lowest atmospheric pressure is 6 and month on mars with the highest atmospheric pressure is 9\n"
     ]
    }
   ],
   "source": [
    "# Lowest & highest atmospheric pressure months on Mars\n",
    "\n",
    "temp_by_month = mars_df.groupby([\"month\"]).mean().reset_index()\n",
    "\n",
    "low_month = temp_by_month[temp_by_month.pressure == temp_by_month.pressure.min()]['month'].tolist()[0]\n",
    "high_month = temp_by_month[temp_by_month.pressure == temp_by_month.pressure.max()]['month'].tolist()[0]\n",
    "\n",
    "print(f\"The month on mars with the lowest atmospheric pressure is {low_month} \" \\\n",
    "      f\"and month on mars with the highest atmospheric pressure is {high_month}\")"
   ]
  },
  {
   "cell_type": "code",
   "execution_count": 9,
   "id": "8da2d961",
   "metadata": {},
   "outputs": [
    {
     "data": {
      "image/png": "[encoded data removed]",
      "text/plain": [
       "<Figure size 432x288 with 1 Axes>"
      ]
     },
     "metadata": {
      "needs_background": "light"
     },
     "output_type": "display_data"
    }
   ],
   "source": [
    "# Plot pressure by month\n",
    "\n",
    "temp_by_month.plot(x='month', y='pressure', kind='bar')\n",
    "plt.title('Average pressure by Month')\n",
    "plt.ylabel('Average pressure')\n",
    "plt.show()"
   ]
  },
  {
   "cell_type": "code",
   "execution_count": 10,
   "id": "d766e7ab",
   "metadata": {},
   "outputs": [
    {
     "data": {
      "image/png": "[encoded data removed]",
      "text/plain": [
       "<Figure size 432x288 with 1 Axes>"
      ]
     },
     "metadata": {
      "needs_background": "light"
     },
     "output_type": "display_data"
    }
   ],
   "source": [
    "mars_df.plot(x='sol', y='min_temp')\n",
    "plt.title('MinTemp over time')\n",
    "plt.ylabel('minTemp')\n",
    "plt.show()"
   ]
  },
  {
   "cell_type": "code",
   "execution_count": 11,
   "id": "adb1fa66",
   "metadata": {},
   "outputs": [],
   "source": [
    "# Based on the above graph, there are about 700 earth days in a single martian year. \n",
    "# The min temp hits a low point around sol 500 and sol 1200, indicating the beginning and end of the weather cycle"
   ]
  },
  {
   "cell_type": "code",
   "execution_count": 12,
   "id": "6533ad36",
   "metadata": {},
   "outputs": [],
   "source": [
    "mars_df.to_csv('clean_mars_data')"
   ]
  },
  {
   "cell_type": "code",
   "execution_count": null,
   "id": "83f41df6",
   "metadata": {},
   "outputs": [],
   "source": []
  }
 ],
 "metadata": {
  "kernelspec": {
   "display_name": "Python 3 (ipykernel)",
   "language": "python",
   "name": "python3"
  },
  "language_info": {
   "codemirror_mode": {
    "name": "ipython",
    "version": 3
   },
   "file_extension": ".py",
   "mimetype": "text/x-python",
   "name": "python",
   "nbconvert_exporter": "python",
   "pygments_lexer": "ipython3",
   "version": "3.9.12"
  }
 },
 "nbformat": 4,
 "nbformat_minor": 5
}
